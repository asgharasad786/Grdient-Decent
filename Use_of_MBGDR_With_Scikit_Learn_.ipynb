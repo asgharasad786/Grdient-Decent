{
  "cells": [
    {
      "cell_type": "code",
      "source": [
        "import pandas as pd\n",
        "import numpy as np"
      ],
      "metadata": {
        "id": "SIvs1ouDOL7j"
      },
      "execution_count": 149,
      "outputs": []
    },
    {
      "cell_type": "code",
      "source": [
        "X_train = pd.read_csv('X_train.csv').values\n",
        "X_test = pd.read_csv('X_test.csv').values\n",
        "y_train = pd.read_csv('y_train.csv').squeeze().values\n",
        "y_test = pd.read_csv('y_test.csv').squeeze().values"
      ],
      "metadata": {
        "id": "B1yg5vFMwQ9-"
      },
      "execution_count": 150,
      "outputs": []
    },
    {
      "cell_type": "code",
      "source": [
        "print(X_train.shape)\n",
        "print(X_test.shape)\n",
        "print(y_train.shape)\n",
        "print(y_test.shape)"
      ],
      "metadata": {
        "colab": {
          "base_uri": "https://localhost:8080/"
        },
        "id": "_6of-KwSgAgl",
        "outputId": "ba340e25-de05-4b00-e5f2-c899d5ee73c0"
      },
      "execution_count": 151,
      "outputs": [
        {
          "output_type": "stream",
          "name": "stdout",
          "text": [
            "(353, 10)\n",
            "(89, 10)\n",
            "(353,)\n",
            "(89,)\n"
          ]
        }
      ]
    },
    {
      "cell_type": "code",
      "source": [
        "from sklearn.linear_model import SGDRegressor\n",
        "from sklearn.metrics import r2_score"
      ],
      "metadata": {
        "id": "cq7mFtgtiAJ0"
      },
      "execution_count": 152,
      "outputs": []
    },
    {
      "cell_type": "code",
      "source": [
        "sgd = SGDRegressor(learning_rate='constant',eta0=0.1)"
      ],
      "metadata": {
        "id": "u3s2Jq2wqNc9"
      },
      "execution_count": 153,
      "outputs": []
    },
    {
      "cell_type": "code",
      "source": [
        "batch_size =45\n",
        "for i in range(100):\n",
        "\n",
        "    idx = random.sample(range(X_train.shape[0]),batch_size)\n",
        "    sgd.partial_fit(X_train[idx],y_train[idx])"
      ],
      "metadata": {
        "id": "2nRnkCfQqNgI"
      },
      "execution_count": 154,
      "outputs": []
    },
    {
      "cell_type": "code",
      "source": [
        "sgd.coef_"
      ],
      "metadata": {
        "colab": {
          "base_uri": "https://localhost:8080/"
        },
        "id": "qtIjh6KuqNiH",
        "outputId": "916efb24-8f95-4e11-b5bd-09936982c303"
      },
      "execution_count": 155,
      "outputs": [
        {
          "output_type": "execute_result",
          "data": {
            "text/plain": [
              "array([  46.13296711, -101.24645088,  390.24564302,  301.09806168,\n",
              "          5.97364683,  -53.34161149, -163.00416883,  117.29197766,\n",
              "        346.11452103,  126.03375496])"
            ]
          },
          "metadata": {},
          "execution_count": 155
        }
      ]
    },
    {
      "cell_type": "code",
      "source": [
        "sgd.intercept_"
      ],
      "metadata": {
        "colab": {
          "base_uri": "https://localhost:8080/"
        },
        "id": "XVbNX1LBqNlk",
        "outputId": "830ebda4-af25-4cfe-b3ed-6f61c1574cbc"
      },
      "execution_count": 156,
      "outputs": [
        {
          "output_type": "execute_result",
          "data": {
            "text/plain": [
              "array([149.69279334])"
            ]
          },
          "metadata": {},
          "execution_count": 156
        }
      ]
    },
    {
      "cell_type": "code",
      "source": [
        "y_pred = sgd.predict(X_test)"
      ],
      "metadata": {
        "id": "io4BrEHiqzBY"
      },
      "execution_count": 158,
      "outputs": []
    },
    {
      "cell_type": "code",
      "source": [
        "print(r2_score(y_test,y_pred)*100)"
      ],
      "metadata": {
        "colab": {
          "base_uri": "https://localhost:8080/"
        },
        "id": "6z2EhOLiBMZh",
        "outputId": "611d59ae-b65a-4a41-c192-c86b3e361b29"
      },
      "execution_count": 160,
      "outputs": [
        {
          "output_type": "stream",
          "name": "stdout",
          "text": [
            "44.08222819148951\n"
          ]
        }
      ]
    }
  ],
  "metadata": {
    "accelerator": "GPU",
    "colab": {
      "gpuType": "T4",
      "provenance": []
    },
    "kernelspec": {
      "display_name": "Python 3",
      "name": "python3"
    },
    "language_info": {
      "name": "python"
    }
  },
  "nbformat": 4,
  "nbformat_minor": 0
}