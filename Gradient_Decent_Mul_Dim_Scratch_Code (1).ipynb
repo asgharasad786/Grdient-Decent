{
  "cells": [
    {
      "cell_type": "code",
      "source": [
        "import pandas as pd\n",
        "import numpy as np"
      ],
      "metadata": {
        "id": "SIvs1ouDOL7j"
      },
      "execution_count": 177,
      "outputs": []
    },
    {
      "cell_type": "code",
      "source": [
        "# X_train=pd.read_csv('X_train.csv')\n",
        "# X_test=pd.read_csv('X_test.csv')\n",
        "# y_train=pd.read_csv('y_train.csv')\n",
        "# y_test=pd.read_csv('y_test.csv')\n"
      ],
      "metadata": {
        "id": "Za_4wmiHgARZ"
      },
      "execution_count": 178,
      "outputs": []
    },
    {
      "cell_type": "code",
      "source": [
        "X_train = pd.read_csv('X_train.csv')\n",
        "X_test = pd.read_csv('X_test.csv')\n",
        "y_train = pd.read_csv('y_train.csv').squeeze()\n",
        "y_test = pd.read_csv('y_test.csv').squeeze()"
      ],
      "metadata": {
        "id": "B1yg5vFMwQ9-"
      },
      "execution_count": 179,
      "outputs": []
    },
    {
      "cell_type": "code",
      "source": [
        "print(X_train.shape)\n",
        "print(X_test.shape)\n",
        "print(y_train.shape)\n",
        "print(y_test.shape)"
      ],
      "metadata": {
        "colab": {
          "base_uri": "https://localhost:8080/"
        },
        "id": "_6of-KwSgAgl",
        "outputId": "161e56d3-5198-47ad-d4da-6665853f3a9e"
      },
      "execution_count": 180,
      "outputs": [
        {
          "output_type": "stream",
          "name": "stdout",
          "text": [
            "(353, 10)\n",
            "(89, 10)\n",
            "(353,)\n",
            "(89,)\n"
          ]
        }
      ]
    },
    {
      "cell_type": "code",
      "source": [
        "class GDRegressor:\n",
        "  def __init__(self,learning_rate=0.01,epochs=100):\n",
        "    self.lr=learning_rate\n",
        "    self.epochs=epochs\n",
        "    self.coef_=None\n",
        "    self.intercept_=None\n",
        "\n",
        "  def fit(self,X_train,y_train):\n",
        "    self.intercept_=0\n",
        "    self.coef_=np.ones(X_train.shape[1])\n",
        "    for i in range(self.epochs):\n",
        "\n",
        "      #predict y_hat\n",
        "      y_hat=np.dot(X_train,self.coef_)+self.intercept_\n",
        "      #calculate gradient descent for intercept\n",
        "      intercept_gradient = -2 * (y_train - y_hat).mean()\n",
        "      self.intercept_=self.intercept_-(self.lr*intercept_gradient)\n",
        "\n",
        "      #calculate gradient descent for coef\n",
        "      coef_gradient = -2 * np.dot((y_train - y_hat), X_train) / X_train.shape[0]\n",
        "      self.coef_=self.coef_-(self.lr*coef_gradient)\n",
        "\n",
        "    print(\"Intercept: \\n\",self.intercept_)\n",
        "    print(\"Coef: \\n\",self.coef_)\n",
        "\n",
        "\n",
        "  def predict(self,X_test):\n",
        "    return np.dot(X_test,self.coef_)+self.intercept_"
      ],
      "metadata": {
        "id": "gP3viH7OgAkK"
      },
      "execution_count": 181,
      "outputs": []
    },
    {
      "cell_type": "code",
      "source": [
        "gdr=GDRegressor(epochs=800,learning_rate=0.5)"
      ],
      "metadata": {
        "id": "Pi98xyMsh_xd"
      },
      "execution_count": 182,
      "outputs": []
    },
    {
      "cell_type": "code",
      "source": [
        "gdr.fit(X_train,y_train)"
      ],
      "metadata": {
        "colab": {
          "base_uri": "https://localhost:8080/"
        },
        "id": "xkQvtW_liACs",
        "outputId": "929ce158-b8fc-48f0-e5f5-1534dac59baf"
      },
      "execution_count": 183,
      "outputs": [
        {
          "output_type": "stream",
          "name": "stdout",
          "text": [
            "Intercept: \n",
            " 152.04693716216596\n",
            "Coef: \n",
            " [  23.71539505 -153.75228258  468.36243532  312.67819645  -29.58228911\n",
            " -102.00406671 -193.14078484  109.87747324  425.64308224  108.08733297]\n"
          ]
        }
      ]
    },
    {
      "cell_type": "code",
      "source": [
        "y_pred=gdr.predict(X_test)"
      ],
      "metadata": {
        "id": "LlDFWLfMiAEV"
      },
      "execution_count": 184,
      "outputs": []
    },
    {
      "cell_type": "markdown",
      "source": [
        "**R2 Score**"
      ],
      "metadata": {
        "id": "tjyjikItCdkU"
      }
    },
    {
      "cell_type": "code",
      "source": [
        "n=X_test.shape[0]\n",
        "num=0\n",
        "den=0\n",
        "for i in range(n):\n",
        "  num+=(y_test[i]-y_pred[i])**2\n",
        "  den+=(y_test[i]-y_test.mean())**2\n",
        "R2=1-(num/den)\n",
        "print(\"R2 Score: \",R2)"
      ],
      "metadata": {
        "colab": {
          "base_uri": "https://localhost:8080/"
        },
        "id": "kppOwFf3iAHp",
        "outputId": "6219b020-e3fa-49af-a736-88c3bc9c55c1"
      },
      "execution_count": 190,
      "outputs": [
        {
          "output_type": "stream",
          "name": "stdout",
          "text": [
            "R2 Score:  0.4539272958433265\n"
          ]
        }
      ]
    },
    {
      "cell_type": "markdown",
      "source": [
        "**Check Correction with scikit_learn**"
      ],
      "metadata": {
        "id": "u50VHeF-CQXj"
      }
    },
    {
      "cell_type": "code",
      "source": [
        "from sklearn.linear_model import LinearRegression\n",
        "from sklearn.metrics import r2_score"
      ],
      "metadata": {
        "id": "cq7mFtgtiAJ0"
      },
      "execution_count": 191,
      "outputs": []
    },
    {
      "cell_type": "code",
      "source": [
        "print(r2_score(y_test,y_pred))"
      ],
      "metadata": {
        "colab": {
          "base_uri": "https://localhost:8080/"
        },
        "id": "6z2EhOLiBMZh",
        "outputId": "4a0c4ba8-27c2-461d-97de-6a37a6fa0147"
      },
      "execution_count": 187,
      "outputs": [
        {
          "output_type": "stream",
          "name": "stdout",
          "text": [
            "0.4539272958433266\n"
          ]
        }
      ]
    }
  ],
  "metadata": {
    "accelerator": "GPU",
    "colab": {
      "gpuType": "T4",
      "provenance": []
    },
    "kernelspec": {
      "display_name": "Python 3",
      "name": "python3"
    },
    "language_info": {
      "name": "python"
    }
  },
  "nbformat": 4,
  "nbformat_minor": 0
}