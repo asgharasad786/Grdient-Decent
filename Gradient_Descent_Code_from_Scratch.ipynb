{
  "cells": [
    {
      "cell_type": "code",
      "execution_count": 3,
      "id": "480410b3",
      "metadata": {
        "id": "480410b3"
      },
      "outputs": [],
      "source": [
        "from sklearn.datasets import make_regression\n",
        "import numpy as np\n",
        "import matplotlib.pyplot as plt"
      ]
    },
    {
      "cell_type": "code",
      "execution_count": 2,
      "id": "a720e496",
      "metadata": {
        "id": "a720e496"
      },
      "outputs": [],
      "source": [
        "X,y = make_regression(n_samples=100, n_features=1, n_informative=1, n_targets=1,noise=20,random_state=13)"
      ]
    },
    {
      "cell_type": "code",
      "source": [
        "X[1]"
      ],
      "metadata": {
        "colab": {
          "base_uri": "https://localhost:8080/"
        },
        "id": "XhJEli53eFU2",
        "outputId": "087f015c-7902-4f52-f464-1b5f401e45fd"
      },
      "id": "XhJEli53eFU2",
      "execution_count": 29,
      "outputs": [
        {
          "output_type": "execute_result",
          "data": {
            "text/plain": [
              "array([-0.71239066])"
            ]
          },
          "metadata": {},
          "execution_count": 29
        }
      ]
    },
    {
      "cell_type": "code",
      "source": [
        "y[1]"
      ],
      "metadata": {
        "colab": {
          "base_uri": "https://localhost:8080/"
        },
        "id": "mEnvnGwYePsc",
        "outputId": "b9c5d402-ed2b-4fb0-a7fb-a6336cdb06d4"
      },
      "id": "mEnvnGwYePsc",
      "execution_count": 33,
      "outputs": [
        {
          "output_type": "execute_result",
          "data": {
            "text/plain": [
              "-9.42120961239921"
            ]
          },
          "metadata": {},
          "execution_count": 33
        }
      ]
    },
    {
      "cell_type": "code",
      "execution_count": 4,
      "id": "623ddc39",
      "metadata": {
        "colab": {
          "base_uri": "https://localhost:8080/",
          "height": 448
        },
        "id": "623ddc39",
        "outputId": "9af5c86d-38ca-49a5-db5a-4610ac7d4cee"
      },
      "outputs": [
        {
          "output_type": "execute_result",
          "data": {
            "text/plain": [
              "<matplotlib.collections.PathCollection at 0x7a9f699594b0>"
            ]
          },
          "metadata": {},
          "execution_count": 4
        },
        {
          "output_type": "display_data",
          "data": {
            "text/plain": [
              "<Figure size 640x480 with 1 Axes>"
            ],
            "image/png": "[encoded data removed]"
          },
          "metadata": {}
        }
      ],
      "source": [
        "plt.scatter(X,y)"
      ]
    },
    {
      "cell_type": "code",
      "execution_count": 19,
      "id": "0a55c997",
      "metadata": {
        "id": "0a55c997"
      },
      "outputs": [],
      "source": [
        "class GDRegressor:\n",
        "\n",
        "    def __init__(self,learning_rate,epochs):\n",
        "        self.m = 100\n",
        "        self.b = -120\n",
        "        self.lr = learning_rate\n",
        "        self.epochs = epochs\n",
        "\n",
        "    def fit(self,X,y):\n",
        "        # calcualte the b using GD\n",
        "        for i in range(self.epochs):\n",
        "            loss_slope_b = -2 * np.sum(y - self.m*X.ravel() - self.b)\n",
        "            loss_slope_m = -2 * np.sum((y - self.m*X.ravel() - self.b)*X.ravel())\n",
        "\n",
        "            self.b = self.b - (self.lr * loss_slope_b)\n",
        "            self.m = self.m - (self.lr * loss_slope_m)\n",
        "            print(\"Value of m: \", self.m,\",   Value of b: \", self.b)\n",
        "\n",
        "    def predict(self,X):\n",
        "        return self.m * X + self.b\n",
        ""
      ]
    },
    {
      "cell_type": "code",
      "execution_count": 20,
      "id": "916c1a07",
      "metadata": {
        "id": "916c1a07"
      },
      "outputs": [],
      "source": [
        "gd = GDRegressor(0.001,80)"
      ]
    },
    {
      "cell_type": "code",
      "execution_count": 21,
      "id": "fb9c36f3",
      "metadata": {
        "colab": {
          "base_uri": "https://localhost:8080/"
        },
        "id": "fb9c36f3",
        "outputId": "f7991f26-2638-4d7b-cefb-2f536e2efa07"
      },
      "outputs": [
        {
          "output_type": "stream",
          "name": "stdout",
          "text": [
            "Value of m:  88.7901778060777 ,   Value of b:  -97.30202349511147\n",
            "Value of m:  79.26989400677363 ,   Value of b:  -79.01269499728718\n",
            "Value of m:  71.19603915550572 ,   Value of b:  -64.2700212110887\n",
            "Value of m:  64.357826042914 ,   Value of b:  -52.381567622457695\n",
            "Value of m:  58.573134285938856 ,   Value of b:  -42.79092431395032\n",
            "Value of m:  53.685100591058074 ,   Value of b:  -35.05083591632167\n",
            "Value of m:  49.55898969983806 ,   Value of b:  -28.80166573902754\n",
            "Value of m:  46.07935938462746 ,   Value of b:  -23.754130522644466\n",
            "Value of m:  43.14751810732243 ,   Value of b:  -19.6754551237646\n",
            "Value of m:  40.679264258689464 ,   Value of b:  -16.378266564607884\n",
            "Value of m:  38.602889878179504 ,   Value of b:  -13.711682863685132\n",
            "Value of m:  36.85742837440565 ,   Value of b:  -11.55416078082497\n",
            "Value of m:  35.391124246007365 ,   Value of b:  -9.807753543980294\n",
            "Value of m:  34.160102562818395 ,   Value of b:  -8.393499154751025\n",
            "Value of m:  33.12721658147269 ,   Value of b:  -7.2477154903755485\n",
            "Value of m:  32.2610530264308 ,   Value of b:  -6.3190229237706514\n",
            "Value of m:  31.53507604240516 ,   Value of b:  -5.5659507997754325\n",
            "Value of m:  30.926892458014258 ,   Value of b:  -4.955012616245335\n",
            "Value of m:  30.417622682493505 ,   Value of b:  -4.459157586120731\n",
            "Value of m:  29.991363212652477 ,   Value of b:  -4.056524538225423\n",
            "Value of m:  29.63472830753753 ,   Value of b:  -3.7294387591921634\n",
            "Value of m:  29.33645986404345 ,   Value of b:  -3.4636041130856206\n",
            "Value of m:  29.087095882238803 ,   Value of b:  -3.2474521798712006\n",
            "Value of m:  28.87868913818444 ,   Value of b:  -3.071617693375023\n",
            "Value of m:  28.70456878480573 ,   Value of b:  -2.928515605334555\n",
            "Value of m:  28.559138582490913 ,   Value of b:  -2.811999951784896\n",
            "Value of m:  28.437706327772243 ,   Value of b:  -2.717088589202935\n",
            "Value of m:  28.33633980945949 ,   Value of b:  -2.6397409908975256\n",
            "Value of m:  28.251745286390655 ,   Value of b:  -2.57667880147634\n",
            "Value of m:  28.181165059127647 ,   Value of b:  -2.525240860859839\n",
            "Value of m:  28.122291208793854 ,   Value of b:  -2.483266026978441\n",
            "Value of m:  28.073193008679045 ,   Value of b:  -2.4489984262723685\n",
            "Value of m:  28.03225588644732 ,   Value of b:  -2.421010806151768\n",
            "Value of m:  27.998130134298673 ,   Value of b:  -2.3981425039531645\n",
            "Value of m:  27.96968783805175 ,   Value of b:  -2.3794492229634963\n",
            "Value of m:  27.945986729918296 ,   Value of b:  -2.3641623501073594\n",
            "Value of m:  27.926239869128796 ,   Value of b:  -2.351655987843777\n",
            "Value of m:  27.90979022430597 ,   Value of b:  -2.3414202255085\n",
            "Value of m:  27.89608937574215 ,   Value of b:  -2.3330394594724\n",
            "Value of m:  27.884679678160477 ,   Value of b:  -2.3261748004792975\n",
            "Value of m:  27.875179328291022 ,   Value of b:  -2.3205497911509116\n",
            "Value of m:  27.86726986940981 ,   Value of b:  -2.3159388055580314\n",
            "Value of m:  27.86068573923202 ,   Value of b:  -2.312157622912\n",
            "Value of m:  27.855205530251553 ,   Value of b:  -2.309055764421844\n",
            "Value of m:  27.85064468451989 ,   Value of b:  -2.3065102606878214\n",
            "Value of m:  27.846849389448323 ,   Value of b:  -2.304420580280481\n",
            "Value of m:  27.843691478772474 ,   Value of b:  -2.302704501297856\n",
            "Value of m:  27.841064174421877 ,   Value of b:  -2.301294749046946\n",
            "Value of m:  27.83887853161342 ,   Value of b:  -2.300136256447645\n",
            "Value of m:  27.837060471820052 ,   Value of b:  -2.2991839308293196\n",
            "Value of m:  27.835548307020932 ,   Value of b:  -2.2984008327087633\n",
            "Value of m:  27.83429067437963 ,   Value of b:  -2.297756689892138\n",
            "Value of m:  27.83324481370007 ,   Value of b:  -2.2972266846305183\n",
            "Value of m:  27.83237513107891 ,   Value of b:  -2.296790463222463\n",
            "Value of m:  27.831652001448113 ,   Value of b:  -2.2964313269174133\n",
            "Value of m:  27.831050770469645 ,   Value of b:  -2.296135570650334\n",
            "Value of m:  27.83055092274772 ,   Value of b:  -2.295891942370085\n",
            "Value of m:  27.830135388766063 ,   Value of b:  -2.2956912007856043\n",
            "Value of m:  27.82978996751007 ,   Value of b:  -2.295525753466859\n",
            "Value of m:  27.82950284554023 ,   Value of b:  -2.2953893605809816\n",
            "Value of m:  27.829264196465108 ,   Value of b:  -2.2952768922632396\n",
            "Value of m:  27.82906584742096 ,   Value of b:  -2.2951841298350706\n",
            "Value of m:  27.828901001386015 ,   Value of b:  -2.295107602882494\n",
            "Value of m:  27.828764006012378 ,   Value of b:  -2.295044455675064\n",
            "Value of m:  27.82865016120682 ,   Value of b:  -2.294992337600646\n",
            "Value of m:  27.82855555898433 ,   Value of b:  -2.2949493132654935\n",
            "Value of m:  27.828476950196606 ,   Value of b:  -2.2949137887035693\n",
            "Value of m:  27.828411633637465 ,   Value of b:  -2.2948844507871877\n",
            "Value of m:  27.828357363777428 ,   Value of b:  -2.2948602174601187\n",
            "Value of m:  27.828312274005505 ,   Value of b:  -2.2948401968462746\n",
            "Value of m:  27.82827481277783 ,   Value of b:  -2.2948236536400106\n",
            "Value of m:  27.828243690507616 ,   Value of b:  -2.2948099814724836\n",
            "Value of m:  27.828217835393204 ,   Value of b:  -2.2947986801843405\n",
            "Value of m:  27.82819635668304 ,   Value of b:  -2.29478933712787\n",
            "Value of m:  27.82817851412777 ,   Value of b:  -2.294781611779608\n",
            "Value of m:  27.828163692579334 ,   Value of b:  -2.2947752230735774\n",
            "Value of m:  27.828151380871283 ,   Value of b:  -2.2947699389711573\n",
            "Value of m:  27.82814115425997 ,   Value of b:  -2.294765567870272\n",
            "Value of m:  27.828132659827148 ,   Value of b:  -2.2947619515276263\n",
            "Value of m:  27.828125604345274 ,   Value of b:  -2.2947589592259776\n"
          ]
        }
      ],
      "source": [
        "gd.fit(X,y)"
      ]
    },
    {
      "cell_type": "code",
      "source": [
        "plt.scatter(X,y)\n",
        "plt.plot(X,gd.predict(X))"
      ],
      "metadata": {
        "colab": {
          "base_uri": "https://localhost:8080/",
          "height": 448
        },
        "id": "PK_i2N4TccCW",
        "outputId": "e19d12a6-89a7-4d77-de35-729c640f8669"
      },
      "id": "PK_i2N4TccCW",
      "execution_count": 22,
      "outputs": [
        {
          "output_type": "execute_result",
          "data": {
            "text/plain": [
              "[<matplotlib.lines.Line2D at 0x7a9f673fd810>]"
            ]
          },
          "metadata": {},
          "execution_count": 22
        },
        {
          "output_type": "display_data",
          "data": {
            "text/plain": [
              "<Figure size 640x480 with 1 Axes>"
            ],
            "image/png": "[encoded data removed]"
          },
          "metadata": {}
        }
      ]
    },
    {
      "cell_type": "code",
      "source": [
        "prd_y=gd.predict(X)"
      ],
      "metadata": {
        "id": "7wDQUcRXdh8U"
      },
      "id": "7wDQUcRXdh8U",
      "execution_count": 24,
      "outputs": []
    },
    {
      "cell_type": "code",
      "source": [
        "n=X.shape[0]\n",
        "num=0\n",
        "den=0\n",
        "for i in range(X.shape[0]):\n",
        "  num+=(y[i]-prd_y[i])**2\n",
        "  den+=(y[i]-y.mean())**2\n",
        "R2=1-(num/den)\n",
        "print(\"R2 Score: \",R2)"
      ],
      "metadata": {
        "colab": {
          "base_uri": "https://localhost:8080/"
        },
        "id": "WNycEVl_c9eW",
        "outputId": "986c81da-0219-4e80-bf5c-365e56595065"
      },
      "id": "WNycEVl_c9eW",
      "execution_count": 25,
      "outputs": [
        {
          "output_type": "stream",
          "name": "stdout",
          "text": [
            "R2 Score:  [0.70351824]\n"
          ]
        }
      ]
    },
    {
      "cell_type": "code",
      "source": [
        "from sklearn.metrics import r2_score\n",
        "r2_score(y,prd_y)"
      ],
      "metadata": {
        "colab": {
          "base_uri": "https://localhost:8080/"
        },
        "id": "KGwRkP_-d4_6",
        "outputId": "b26230be-0897-4989-8342-acf6bbae4715"
      },
      "id": "KGwRkP_-d4_6",
      "execution_count": 26,
      "outputs": [
        {
          "output_type": "execute_result",
          "data": {
            "text/plain": [
              "0.7035182396282451"
            ]
          },
          "metadata": {},
          "execution_count": 26
        }
      ]
    }
  ],
  "metadata": {
    "kernelspec": {
      "display_name": "Python 3",
      "language": "python",
      "name": "python3"
    },
    "language_info": {
      "codemirror_mode": {
        "name": "ipython",
        "version": 3
      },
      "file_extension": ".py",
      "mimetype": "text/x-python",
      "name": "python",
      "nbconvert_exporter": "python",
      "pygments_lexer": "ipython3",
      "version": "3.8.8"
    },
    "colab": {
      "provenance": []
    }
  },
  "nbformat": 4,
  "nbformat_minor": 5
}